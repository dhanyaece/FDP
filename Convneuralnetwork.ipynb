{
  "nbformat": 4,
  "nbformat_minor": 0,
  "metadata": {
    "colab": {
      "provenance": [],
      "mount_file_id": "1Mj3NmwP_MA83Sbd2FlrK3Gkrfe4o1bcA",
      "authorship_tag": "ABX9TyMWUECDu+Y5im49/YubXUct",
      "include_colab_link": true
    },
    "kernelspec": {
      "name": "python3",
      "display_name": "Python 3"
    },
    "language_info": {
      "name": "python"
    },
    "accelerator": "GPU",
    "gpuClass": "standard"
  },
  "cells": [
    {
      "cell_type": "markdown",
      "metadata": {
        "id": "view-in-github",
        "colab_type": "text"
      },
      "source": [
        "<a href=\"https://colab.research.google.com/github/dhanyaece/FDP/blob/main/Convneuralnetwork.ipynb\" target=\"_parent\"><img src=\"https://colab.research.google.com/assets/colab-badge.svg\" alt=\"Open In Colab\"/></a>"
      ]
    },
    {
      "cell_type": "code",
      "execution_count": null,
      "metadata": {
        "id": "DakbItdWLoku"
      },
      "outputs": [],
      "source": [
        "import os\n",
        "os.chdir('/content/drive/MyDrive/ASIET')"
      ]
    },
    {
      "cell_type": "code",
      "source": [
        "pwd"
      ],
      "metadata": {
        "colab": {
          "base_uri": "https://localhost:8080/",
          "height": 35
        },
        "id": "YJRT_pWeP0IY",
        "outputId": "6985b422-e076-4f1c-fd28-51001c4caf45"
      },
      "execution_count": null,
      "outputs": [
        {
          "output_type": "execute_result",
          "data": {
            "text/plain": [
              "'/content/drive/MyDrive/ASIET'"
            ],
            "application/vnd.google.colaboratory.intrinsic+json": {
              "type": "string"
            }
          },
          "metadata": {},
          "execution_count": 3
        }
      ]
    },
    {
      "cell_type": "code",
      "source": [
        "import tensorflow as tf\n",
        "from tensorflow import keras"
      ],
      "metadata": {
        "id": "b0LZPwqsQI_4"
      },
      "execution_count": null,
      "outputs": []
    },
    {
      "cell_type": "markdown",
      "source": [
        "set seed to generate same random number"
      ],
      "metadata": {
        "id": "udh2mAAfQcrR"
      }
    },
    {
      "cell_type": "code",
      "source": [
        "tf.random.set_seed(42)\n",
        "\n",
        "import matplotlib.pyplot as plt\n",
        "%matplotlib inline\n",
        " \n",
        "import numpy as np\n",
        "np.random.seed(42)\n",
        "\n",
        "import glob\n",
        "import PIL\n",
        "from PIL import Image"
      ],
      "metadata": {
        "id": "64aE0INVQphn"
      },
      "execution_count": null,
      "outputs": []
    },
    {
      "cell_type": "markdown",
      "source": [
        "**UNZIP the images**\n",
        "\n",
        "**-d where it is to be kept**"
      ],
      "metadata": {
        "id": "m-d88jDiSwro"
      }
    },
    {
      "cell_type": "code",
      "source": [
        "#! unzip '/content/drive/MyDrive/ASIET/Flower_dataset.zip' -d '/content/drive/MyDrive/ASIET/Flower Dataset'"
      ],
      "metadata": {
        "id": "Ddnv4eXBSXh7"
      },
      "execution_count": null,
      "outputs": []
    },
    {
      "cell_type": "markdown",
      "source": [
        "**TO access each files**\n",
        "\n",
        "**all files represented by **\n",
        "\n",
        "***/*.jpg **\n",
        "\n",
        "**ie all jpg files contained in all files** **bold text**"
      ],
      "metadata": {
        "id": "WQ8XeJBGVE6H"
      }
    },
    {
      "cell_type": "code",
      "source": [
        "imgFiles =glob.glob(\"/content/drive/MyDrive/ASIET/Flower Dataset/tiny_FR/*/*.jpg\")\n"
      ],
      "metadata": {
        "id": "NrhaakiVT8Yp"
      },
      "execution_count": null,
      "outputs": []
    },
    {
      "cell_type": "code",
      "source": [
        "for items in imgFiles[:8]:\n",
        "  print(items)"
      ],
      "metadata": {
        "colab": {
          "base_uri": "https://localhost:8080/"
        },
        "id": "q6p7sa51VxLa",
        "outputId": "e04a0817-9b0b-4517-d5cb-851ae3ec2f78"
      },
      "execution_count": null,
      "outputs": [
        {
          "output_type": "stream",
          "name": "stdout",
          "text": [
            "/content/drive/MyDrive/ASIET/Flower Dataset/tiny_FR/daisy/1031799732_e7f4008c03.jpg\n",
            "/content/drive/MyDrive/ASIET/Flower Dataset/tiny_FR/daisy/102841525_bd6628ae3c.jpg\n",
            "/content/drive/MyDrive/ASIET/Flower Dataset/tiny_FR/daisy/100080576_f52e8ee070_n.jpg\n",
            "/content/drive/MyDrive/ASIET/Flower Dataset/tiny_FR/daisy/1150395827_6f94a5c6e4_n.jpg\n",
            "/content/drive/MyDrive/ASIET/Flower Dataset/tiny_FR/daisy/107592979_aaa9cdfe78_m.jpg\n",
            "/content/drive/MyDrive/ASIET/Flower Dataset/tiny_FR/daisy/11642632_1e7627a2cc.jpg\n",
            "/content/drive/MyDrive/ASIET/Flower Dataset/tiny_FR/daisy/1140299375_3aa7024466.jpg\n",
            "/content/drive/MyDrive/ASIET/Flower Dataset/tiny_FR/daisy/105806915_a9c13e2106_n.jpg\n"
          ]
        }
      ]
    },
    {
      "cell_type": "code",
      "source": [
        "print(len(imgFiles))"
      ],
      "metadata": {
        "colab": {
          "base_uri": "https://localhost:8080/"
        },
        "id": "5GYSsdllWEos",
        "outputId": "1fc6a7d2-8dda-4ddf-bdbc-0c4e1c170082"
      },
      "execution_count": null,
      "outputs": [
        {
          "output_type": "stream",
          "name": "stdout",
          "text": [
            "500\n"
          ]
        }
      ]
    },
    {
      "cell_type": "markdown",
      "source": [
        "**x and y for input and output**"
      ],
      "metadata": {
        "id": "EgW7oeMOWc1_"
      }
    },
    {
      "cell_type": "code",
      "source": [
        "x=[]\n",
        "y=[]"
      ],
      "metadata": {
        "id": "H1OHfcTwWZxH"
      },
      "execution_count": null,
      "outputs": []
    },
    {
      "cell_type": "code",
      "source": [
        "for fName in imgFiles:\n",
        "  x_i = Image.open(fName)\n",
        "  x_i =x_i.resize((299,299)) # resize all images to same size\n",
        "  x_i= np.array(x_i)/255.0   #normalize all values between 0 and 1\n",
        "  x.append(x_i)\n",
        "  label = fName.split(\"/\") # to find the label from the folder name\n",
        "  y_i =label[7] #ie split by / the folder location will give class name in the seventh position\n",
        "  y_i # will be the last read folder name\n",
        "  y.append(y_i)\n",
        "\n",
        "\n"
      ],
      "metadata": {
        "id": "JRPUPayLWg53"
      },
      "execution_count": null,
      "outputs": []
    },
    {
      "cell_type": "markdown",
      "source": [
        "**label can be separated from /**\n",
        "\n",
        "**ie from differnt folder** "
      ],
      "metadata": {
        "id": "YL_M1hygXZQH"
      }
    },
    {
      "cell_type": "code",
      "source": [
        "print(y)"
      ],
      "metadata": {
        "colab": {
          "base_uri": "https://localhost:8080/"
        },
        "id": "39OAzS6_Xi39",
        "outputId": "1490492a-2ba2-440e-9403-b43c4d223d1e"
      },
      "execution_count": null,
      "outputs": [
        {
          "output_type": "stream",
          "name": "stdout",
          "text": [
            "['daisy', 'daisy', 'daisy', 'daisy', 'daisy', 'daisy', 'daisy', 'daisy', 'daisy', 'daisy', 'daisy', 'daisy', 'daisy', 'daisy', 'daisy', 'daisy', 'daisy', 'daisy', 'daisy', 'daisy', 'daisy', 'daisy', 'daisy', 'daisy', 'daisy', 'daisy', 'daisy', 'daisy', 'daisy', 'daisy', 'daisy', 'daisy', 'daisy', 'daisy', 'daisy', 'daisy', 'daisy', 'daisy', 'daisy', 'daisy', 'daisy', 'daisy', 'daisy', 'daisy', 'daisy', 'daisy', 'daisy', 'daisy', 'daisy', 'daisy', 'daisy', 'daisy', 'daisy', 'daisy', 'daisy', 'daisy', 'daisy', 'daisy', 'daisy', 'daisy', 'daisy', 'daisy', 'daisy', 'daisy', 'daisy', 'daisy', 'daisy', 'daisy', 'daisy', 'daisy', 'daisy', 'daisy', 'daisy', 'daisy', 'daisy', 'daisy', 'daisy', 'daisy', 'daisy', 'daisy', 'daisy', 'daisy', 'daisy', 'daisy', 'daisy', 'daisy', 'daisy', 'daisy', 'daisy', 'daisy', 'daisy', 'daisy', 'daisy', 'daisy', 'daisy', 'daisy', 'daisy', 'daisy', 'daisy', 'daisy', 'dandelion', 'dandelion', 'dandelion', 'dandelion', 'dandelion', 'dandelion', 'dandelion', 'dandelion', 'dandelion', 'dandelion', 'dandelion', 'dandelion', 'dandelion', 'dandelion', 'dandelion', 'dandelion', 'dandelion', 'dandelion', 'dandelion', 'dandelion', 'dandelion', 'dandelion', 'dandelion', 'dandelion', 'dandelion', 'dandelion', 'dandelion', 'dandelion', 'dandelion', 'dandelion', 'dandelion', 'dandelion', 'dandelion', 'dandelion', 'dandelion', 'dandelion', 'dandelion', 'dandelion', 'dandelion', 'dandelion', 'dandelion', 'dandelion', 'dandelion', 'dandelion', 'dandelion', 'dandelion', 'dandelion', 'dandelion', 'dandelion', 'dandelion', 'dandelion', 'dandelion', 'dandelion', 'dandelion', 'dandelion', 'dandelion', 'dandelion', 'dandelion', 'dandelion', 'dandelion', 'dandelion', 'dandelion', 'dandelion', 'dandelion', 'dandelion', 'dandelion', 'dandelion', 'dandelion', 'dandelion', 'dandelion', 'dandelion', 'dandelion', 'dandelion', 'dandelion', 'dandelion', 'dandelion', 'dandelion', 'dandelion', 'dandelion', 'dandelion', 'dandelion', 'dandelion', 'dandelion', 'dandelion', 'dandelion', 'dandelion', 'dandelion', 'dandelion', 'dandelion', 'dandelion', 'dandelion', 'dandelion', 'dandelion', 'dandelion', 'dandelion', 'dandelion', 'dandelion', 'dandelion', 'dandelion', 'dandelion', 'rose', 'rose', 'rose', 'rose', 'rose', 'rose', 'rose', 'rose', 'rose', 'rose', 'rose', 'rose', 'rose', 'rose', 'rose', 'rose', 'rose', 'rose', 'rose', 'rose', 'rose', 'rose', 'rose', 'rose', 'rose', 'rose', 'rose', 'rose', 'rose', 'rose', 'rose', 'rose', 'rose', 'rose', 'rose', 'rose', 'rose', 'rose', 'rose', 'rose', 'rose', 'rose', 'rose', 'rose', 'rose', 'rose', 'rose', 'rose', 'rose', 'rose', 'rose', 'rose', 'rose', 'rose', 'rose', 'rose', 'rose', 'rose', 'rose', 'rose', 'rose', 'rose', 'rose', 'rose', 'rose', 'rose', 'rose', 'rose', 'rose', 'rose', 'rose', 'rose', 'rose', 'rose', 'rose', 'rose', 'rose', 'rose', 'rose', 'rose', 'rose', 'rose', 'rose', 'rose', 'rose', 'rose', 'rose', 'rose', 'rose', 'rose', 'rose', 'rose', 'rose', 'rose', 'rose', 'rose', 'rose', 'rose', 'rose', 'rose', 'sunflower', 'sunflower', 'sunflower', 'sunflower', 'sunflower', 'sunflower', 'sunflower', 'sunflower', 'sunflower', 'sunflower', 'sunflower', 'sunflower', 'sunflower', 'sunflower', 'sunflower', 'sunflower', 'sunflower', 'sunflower', 'sunflower', 'sunflower', 'sunflower', 'sunflower', 'sunflower', 'sunflower', 'sunflower', 'sunflower', 'sunflower', 'sunflower', 'sunflower', 'sunflower', 'sunflower', 'sunflower', 'sunflower', 'sunflower', 'sunflower', 'sunflower', 'sunflower', 'sunflower', 'sunflower', 'sunflower', 'sunflower', 'sunflower', 'sunflower', 'sunflower', 'sunflower', 'sunflower', 'sunflower', 'sunflower', 'sunflower', 'sunflower', 'sunflower', 'sunflower', 'sunflower', 'sunflower', 'sunflower', 'sunflower', 'sunflower', 'sunflower', 'sunflower', 'sunflower', 'sunflower', 'sunflower', 'sunflower', 'sunflower', 'sunflower', 'sunflower', 'sunflower', 'sunflower', 'sunflower', 'sunflower', 'sunflower', 'sunflower', 'sunflower', 'sunflower', 'sunflower', 'sunflower', 'sunflower', 'sunflower', 'sunflower', 'sunflower', 'sunflower', 'sunflower', 'sunflower', 'sunflower', 'sunflower', 'sunflower', 'sunflower', 'sunflower', 'sunflower', 'sunflower', 'sunflower', 'sunflower', 'sunflower', 'sunflower', 'sunflower', 'sunflower', 'sunflower', 'sunflower', 'sunflower', 'sunflower', 'tulip', 'tulip', 'tulip', 'tulip', 'tulip', 'tulip', 'tulip', 'tulip', 'tulip', 'tulip', 'tulip', 'tulip', 'tulip', 'tulip', 'tulip', 'tulip', 'tulip', 'tulip', 'tulip', 'tulip', 'tulip', 'tulip', 'tulip', 'tulip', 'tulip', 'tulip', 'tulip', 'tulip', 'tulip', 'tulip', 'tulip', 'tulip', 'tulip', 'tulip', 'tulip', 'tulip', 'tulip', 'tulip', 'tulip', 'tulip', 'tulip', 'tulip', 'tulip', 'tulip', 'tulip', 'tulip', 'tulip', 'tulip', 'tulip', 'tulip', 'tulip', 'tulip', 'tulip', 'tulip', 'tulip', 'tulip', 'tulip', 'tulip', 'tulip', 'tulip', 'tulip', 'tulip', 'tulip', 'tulip', 'tulip', 'tulip', 'tulip', 'tulip', 'tulip', 'tulip', 'tulip', 'tulip', 'tulip', 'tulip', 'tulip', 'tulip', 'tulip', 'tulip', 'tulip', 'tulip', 'tulip', 'tulip', 'tulip', 'tulip', 'tulip', 'tulip', 'tulip', 'tulip', 'tulip', 'tulip', 'tulip', 'tulip', 'tulip', 'tulip', 'tulip', 'tulip', 'tulip', 'tulip', 'tulip', 'tulip']\n"
          ]
        }
      ]
    },
    {
      "cell_type": "code",
      "source": [
        "print(set(y)) # to list unique values"
      ],
      "metadata": {
        "colab": {
          "base_uri": "https://localhost:8080/"
        },
        "id": "jBBwfPZfZ_WW",
        "outputId": "e4e37d4f-ec7c-45f7-9e66-d962a657b173"
      },
      "execution_count": null,
      "outputs": [
        {
          "output_type": "stream",
          "name": "stdout",
          "text": [
            "{'dandelion', 'daisy', 'tulip', 'sunflower', 'rose'}\n"
          ]
        }
      ]
    },
    {
      "cell_type": "code",
      "source": [],
      "metadata": {
        "id": "mUypnvVtbvyW"
      },
      "execution_count": null,
      "outputs": []
    },
    {
      "cell_type": "markdown",
      "source": [
        "**The network can deal with only numerical data**\n",
        "\n",
        "**for that use LabelEncoder in sklearn library**"
      ],
      "metadata": {
        "id": "-WMCZaiqafZn"
      }
    },
    {
      "cell_type": "code",
      "source": [
        "from sklearn.preprocessing import LabelEncoder\n",
        "IEncoder=LabelEncoder()\n",
        "y=IEncoder.fit_transform(y)\n",
        "print(y)\n",
        "print(set(y))"
      ],
      "metadata": {
        "colab": {
          "base_uri": "https://localhost:8080/"
        },
        "id": "4kvZ86bmai2O",
        "outputId": "c4e60008-4d8c-4cbd-fd75-6ee201717049"
      },
      "execution_count": null,
      "outputs": [
        {
          "output_type": "stream",
          "name": "stdout",
          "text": [
            "[0 0 0 0 0 0 0 0 0 0 0 0 0 0 0 0 0 0 0 0 0 0 0 0 0 0 0 0 0 0 0 0 0 0 0 0 0\n",
            " 0 0 0 0 0 0 0 0 0 0 0 0 0 0 0 0 0 0 0 0 0 0 0 0 0 0 0 0 0 0 0 0 0 0 0 0 0\n",
            " 0 0 0 0 0 0 0 0 0 0 0 0 0 0 0 0 0 0 0 0 0 0 0 0 0 0 1 1 1 1 1 1 1 1 1 1 1\n",
            " 1 1 1 1 1 1 1 1 1 1 1 1 1 1 1 1 1 1 1 1 1 1 1 1 1 1 1 1 1 1 1 1 1 1 1 1 1\n",
            " 1 1 1 1 1 1 1 1 1 1 1 1 1 1 1 1 1 1 1 1 1 1 1 1 1 1 1 1 1 1 1 1 1 1 1 1 1\n",
            " 1 1 1 1 1 1 1 1 1 1 1 1 1 1 1 2 2 2 2 2 2 2 2 2 2 2 2 2 2 2 2 2 2 2 2 2 2\n",
            " 2 2 2 2 2 2 2 2 2 2 2 2 2 2 2 2 2 2 2 2 2 2 2 2 2 2 2 2 2 2 2 2 2 2 2 2 2\n",
            " 2 2 2 2 2 2 2 2 2 2 2 2 2 2 2 2 2 2 2 2 2 2 2 2 2 2 2 2 2 2 2 2 2 2 2 2 2\n",
            " 2 2 2 2 3 3 3 3 3 3 3 3 3 3 3 3 3 3 3 3 3 3 3 3 3 3 3 3 3 3 3 3 3 3 3 3 3\n",
            " 3 3 3 3 3 3 3 3 3 3 3 3 3 3 3 3 3 3 3 3 3 3 3 3 3 3 3 3 3 3 3 3 3 3 3 3 3\n",
            " 3 3 3 3 3 3 3 3 3 3 3 3 3 3 3 3 3 3 3 3 3 3 3 3 3 3 3 3 3 3 4 4 4 4 4 4 4\n",
            " 4 4 4 4 4 4 4 4 4 4 4 4 4 4 4 4 4 4 4 4 4 4 4 4 4 4 4 4 4 4 4 4 4 4 4 4 4\n",
            " 4 4 4 4 4 4 4 4 4 4 4 4 4 4 4 4 4 4 4 4 4 4 4 4 4 4 4 4 4 4 4 4 4 4 4 4 4\n",
            " 4 4 4 4 4 4 4 4 4 4 4 4 4 4 4 4 4 4 4]\n",
            "{0, 1, 2, 3, 4}\n"
          ]
        }
      ]
    },
    {
      "cell_type": "code",
      "source": [
        "print(IEncoder.classes_) # to know the correct order of the classes as 0, 1, 2 3"
      ],
      "metadata": {
        "colab": {
          "base_uri": "https://localhost:8080/"
        },
        "id": "phMcg7j8bwme",
        "outputId": "eed94257-edd5-4af3-9925-b3781197fdcc"
      },
      "execution_count": null,
      "outputs": [
        {
          "output_type": "stream",
          "name": "stdout",
          "text": [
            "['daisy' 'dandelion' 'rose' 'sunflower' 'tulip']\n"
          ]
        }
      ]
    },
    {
      "cell_type": "code",
      "source": [
        "x=np.array(x)\n",
        "y=np.array(y)\n",
        "print(x.shape)\n",
        "print(y.shape)"
      ],
      "metadata": {
        "colab": {
          "base_uri": "https://localhost:8080/"
        },
        "id": "3PqGJ8nvjdIF",
        "outputId": "e9c8f40f-2396-4fb2-c102-5823cf243a7a"
      },
      "execution_count": null,
      "outputs": [
        {
          "output_type": "stream",
          "name": "stdout",
          "text": [
            "(500, 299, 299, 3)\n",
            "(500,)\n"
          ]
        }
      ]
    },
    {
      "cell_type": "code",
      "source": [
        "from sklearn.model_selection import train_test_split\n",
        "X_train, X_test,Y_train,Y_test = train_test_split(x,y, test_size=0.2, stratify=y,random_state=42)\n",
        "print(\"X_train_shape:{}\".format(X_train.shape))\n",
        "print(\"X_test_shape:{}\".format(X_train.shape))\n"
      ],
      "metadata": {
        "colab": {
          "base_uri": "https://localhost:8080/"
        },
        "id": "d0k1c73xhhtd",
        "outputId": "72dda129-f90e-495b-8d26-ee90af8c5cb5"
      },
      "execution_count": null,
      "outputs": [
        {
          "output_type": "stream",
          "name": "stdout",
          "text": [
            "X_train_shape:(400, 299, 299, 3)\n",
            "X_test_shape:(400, 299, 299, 3)\n"
          ]
        }
      ]
    },
    {
      "cell_type": "code",
      "source": [
        "# manually scale data\n",
        "mu=X_train.mean()\n",
        "std= X_train.std()\n",
        "X_train_std=(X_train-mu)/std\n",
        "X_test_std= (X_test-mu)/std\n"
      ],
      "metadata": {
        "id": "7rEx2pw_kmAe"
      },
      "execution_count": null,
      "outputs": []
    },
    {
      "cell_type": "code",
      "source": [
        "print(X_train.shape)\n",
        "print(X_train.shape[0])\n",
        "print(X_train.shape[:2])\n",
        "print(X_train.shape[1:])"
      ],
      "metadata": {
        "colab": {
          "base_uri": "https://localhost:8080/"
        },
        "id": "IlXs0_P-oc9h",
        "outputId": "9487b85c-e9a8-4424-9107-cbdeb16ff2ad"
      },
      "execution_count": null,
      "outputs": [
        {
          "output_type": "stream",
          "name": "stdout",
          "text": [
            "(400, 299, 299, 3)\n",
            "400\n",
            "(400, 299)\n",
            "(299, 299, 3)\n"
          ]
        }
      ]
    },
    {
      "cell_type": "code",
      "source": [
        "# construct feature extraction based on CNN\n",
        "# Create the network using Functional API metho\n",
        "input_ = keras.layers.Input(shape = X_train.shape[1:])\n",
        "# Construct the convolution based preprocessing part (feature extractor) \n",
        "x = keras.layers.Conv2D(filters=32, kernel_size=5, padding='same', activation='relu')(input_)\n",
        "x = keras.layers.MaxPool2D(pool_size=2)(x)\n",
        "\n",
        "x = keras.layers.Conv2D(filters=64, kernel_size=3, padding='same', activation='relu')(x)\n",
        "x = keras.layers.MaxPool2D(pool_size=2)(x)\n",
        "\n",
        "# Construct the DNN classifier part\n",
        "\n",
        "x = keras.layers.Flatten()(x)\n",
        "x = keras.layers.Dense(units=1000, activation='relu')(x)\n",
        "x = keras.layers.Dense(units=100, activation='relu')(x)\n",
        "output_ = keras.layers.Dense(units=5, activation='softmax')(x)\n",
        "\n",
        "model_CNN = keras.models.Model(inputs=[input_], outputs=[output_])"
      ],
      "metadata": {
        "id": "m5S3Hmimlgun"
      },
      "execution_count": null,
      "outputs": []
    },
    {
      "cell_type": "code",
      "source": [
        "model_CNN.summary()"
      ],
      "metadata": {
        "colab": {
          "base_uri": "https://localhost:8080/"
        },
        "id": "zItpjDFPnEH_",
        "outputId": "9ab618d7-1043-46ed-9e34-deb3048a5f15"
      },
      "execution_count": null,
      "outputs": [
        {
          "output_type": "stream",
          "name": "stdout",
          "text": [
            "Model: \"model\"\n",
            "_________________________________________________________________\n",
            " Layer (type)                Output Shape              Param #   \n",
            "=================================================================\n",
            " input_1 (InputLayer)        [(None, 299, 299, 3)]     0         \n",
            "                                                                 \n",
            " conv2d (Conv2D)             (None, 299, 299, 32)      2432      \n",
            "                                                                 \n",
            " max_pooling2d (MaxPooling2D  (None, 149, 149, 32)     0         \n",
            " )                                                               \n",
            "                                                                 \n",
            " conv2d_1 (Conv2D)           (None, 149, 149, 64)      18496     \n",
            "                                                                 \n",
            " max_pooling2d_1 (MaxPooling  (None, 74, 74, 64)       0         \n",
            " 2D)                                                             \n",
            "                                                                 \n",
            " flatten (Flatten)           (None, 350464)            0         \n",
            "                                                                 \n",
            " dense (Dense)               (None, 1000)              350465000 \n",
            "                                                                 \n",
            " dense_1 (Dense)             (None, 100)               100100    \n",
            "                                                                 \n",
            " dense_2 (Dense)             (None, 5)                 505       \n",
            "                                                                 \n",
            "=================================================================\n",
            "Total params: 350,586,533\n",
            "Trainable params: 350,586,533\n",
            "Non-trainable params: 0\n",
            "_________________________________________________________________\n"
          ]
        }
      ]
    },
    {
      "cell_type": "code",
      "source": [
        "tf.keras.utils.plot_model(\n",
        "    model_CNN,\n",
        "    to_file='model_CNN.png',\n",
        "    show_shapes=True,\n",
        "    show_layer_names=True,\n",
        "    rankdir='TB',\n",
        "    expand_nested=False,\n",
        "    dpi=96\n",
        ")"
      ],
      "metadata": {
        "colab": {
          "base_uri": "https://localhost:8080/",
          "height": 976
        },
        "id": "IuKS2dGfo-8B",
        "outputId": "a28c16e6-ef11-458b-888f-83550fec8eab"
      },
      "execution_count": null,
      "outputs": [
        {
          "output_type": "execute_result",
          "data": {
            "image/png": "[encoded data removed]",
            "text/plain": [
              "<IPython.core.display.Image object>"
            ]
          },
          "metadata": {},
          "execution_count": 22
        }
      ]
    },
    {
      "cell_type": "code",
      "source": [
        "# Compile the network with appropriate settings for loss, optimizer and metrics.\n",
        "model_CNN.compile(loss='sparse_categorical_crossentropy', \n",
        "                  optimizer='adam', \n",
        "                  metrics=['accuracy'])\n",
        "\n",
        "#Training the model. \n",
        "history_CNN = model_CNN.fit(x=X_train_std, \n",
        "                            y=Y_train, \n",
        "                            epochs=25, \n",
        "                            validation_split=0.1, \n",
        "                            batch_size=32)\n",
        "\n",
        "#history_cnn (dictionary) captures the loss and accuracy in ech epoch and stores "
      ],
      "metadata": {
        "colab": {
          "base_uri": "https://localhost:8080/"
        },
        "id": "oS-ua-w0pE5R",
        "outputId": "4ada9eda-b667-441e-cd54-c509870bbde9"
      },
      "execution_count": null,
      "outputs": [
        {
          "output_type": "stream",
          "name": "stdout",
          "text": [
            "Epoch 1/25\n",
            "12/12 [==============================] - 11s 211ms/step - loss: 21.9932 - accuracy: 0.2889 - val_loss: 1.4400 - val_accuracy: 0.3500\n",
            "Epoch 2/25\n",
            "12/12 [==============================] - 2s 165ms/step - loss: 1.3692 - accuracy: 0.4167 - val_loss: 1.4336 - val_accuracy: 0.4250\n",
            "Epoch 3/25\n",
            "12/12 [==============================] - 2s 166ms/step - loss: 1.2181 - accuracy: 0.5056 - val_loss: 1.3369 - val_accuracy: 0.5000\n",
            "Epoch 4/25\n",
            "12/12 [==============================] - 2s 165ms/step - loss: 1.0805 - accuracy: 0.5917 - val_loss: 1.6137 - val_accuracy: 0.4500\n",
            "Epoch 5/25\n",
            "12/12 [==============================] - 2s 166ms/step - loss: 0.8175 - accuracy: 0.7056 - val_loss: 1.2238 - val_accuracy: 0.4500\n",
            "Epoch 6/25\n",
            "12/12 [==============================] - 2s 166ms/step - loss: 0.5770 - accuracy: 0.8000 - val_loss: 2.0007 - val_accuracy: 0.4750\n",
            "Epoch 7/25\n",
            "12/12 [==============================] - 2s 165ms/step - loss: 0.3688 - accuracy: 0.9028 - val_loss: 1.7064 - val_accuracy: 0.4500\n",
            "Epoch 8/25\n",
            "12/12 [==============================] - 2s 166ms/step - loss: 0.1465 - accuracy: 0.9722 - val_loss: 3.4219 - val_accuracy: 0.5250\n",
            "Epoch 9/25\n",
            "12/12 [==============================] - 2s 173ms/step - loss: 0.0946 - accuracy: 0.9806 - val_loss: 3.4572 - val_accuracy: 0.6000\n",
            "Epoch 10/25\n",
            "12/12 [==============================] - 2s 166ms/step - loss: 0.0849 - accuracy: 0.9806 - val_loss: 2.3253 - val_accuracy: 0.5500\n",
            "Epoch 11/25\n",
            "12/12 [==============================] - 2s 167ms/step - loss: 0.2547 - accuracy: 0.9500 - val_loss: 2.0138 - val_accuracy: 0.5500\n",
            "Epoch 12/25\n",
            "12/12 [==============================] - 2s 166ms/step - loss: 0.1127 - accuracy: 0.9722 - val_loss: 2.6155 - val_accuracy: 0.4750\n",
            "Epoch 13/25\n",
            "12/12 [==============================] - 2s 167ms/step - loss: 0.0592 - accuracy: 0.9833 - val_loss: 2.5383 - val_accuracy: 0.5000\n",
            "Epoch 14/25\n",
            "12/12 [==============================] - 2s 166ms/step - loss: 0.0137 - accuracy: 0.9972 - val_loss: 2.7322 - val_accuracy: 0.5250\n",
            "Epoch 15/25\n",
            "12/12 [==============================] - 2s 167ms/step - loss: 0.0040 - accuracy: 1.0000 - val_loss: 2.8733 - val_accuracy: 0.5000\n",
            "Epoch 16/25\n",
            "12/12 [==============================] - 2s 167ms/step - loss: 0.0032 - accuracy: 1.0000 - val_loss: 3.0189 - val_accuracy: 0.5250\n",
            "Epoch 17/25\n",
            "12/12 [==============================] - 2s 168ms/step - loss: 0.0020 - accuracy: 1.0000 - val_loss: 3.5031 - val_accuracy: 0.5000\n",
            "Epoch 18/25\n",
            "12/12 [==============================] - 2s 168ms/step - loss: 0.0015 - accuracy: 1.0000 - val_loss: 3.5657 - val_accuracy: 0.5000\n",
            "Epoch 19/25\n",
            "12/12 [==============================] - 2s 168ms/step - loss: 7.9773e-04 - accuracy: 1.0000 - val_loss: 3.5832 - val_accuracy: 0.5000\n",
            "Epoch 20/25\n",
            "12/12 [==============================] - 2s 168ms/step - loss: 5.9644e-04 - accuracy: 1.0000 - val_loss: 3.5875 - val_accuracy: 0.5000\n",
            "Epoch 21/25\n",
            "12/12 [==============================] - 2s 168ms/step - loss: 4.6514e-04 - accuracy: 1.0000 - val_loss: 3.6288 - val_accuracy: 0.5000\n",
            "Epoch 22/25\n",
            "12/12 [==============================] - 2s 167ms/step - loss: 3.9128e-04 - accuracy: 1.0000 - val_loss: 3.6817 - val_accuracy: 0.5000\n",
            "Epoch 23/25\n",
            "12/12 [==============================] - 2s 175ms/step - loss: 3.3115e-04 - accuracy: 1.0000 - val_loss: 3.7431 - val_accuracy: 0.5000\n",
            "Epoch 24/25\n",
            "12/12 [==============================] - 2s 169ms/step - loss: 2.8900e-04 - accuracy: 1.0000 - val_loss: 3.8101 - val_accuracy: 0.5000\n",
            "Epoch 25/25\n",
            "12/12 [==============================] - 2s 167ms/step - loss: 2.5113e-04 - accuracy: 1.0000 - val_loss: 3.8513 - val_accuracy: 0.5000\n"
          ]
        }
      ]
    },
    {
      "cell_type": "code",
      "source": [
        "history_CNN.history.items()"
      ],
      "metadata": {
        "colab": {
          "base_uri": "https://localhost:8080/"
        },
        "id": "f25a4nhFpkVn",
        "outputId": "815e36d9-9153-4e5f-f9f6-a66627a7c8ee"
      },
      "execution_count": null,
      "outputs": [
        {
          "output_type": "execute_result",
          "data": {
            "text/plain": [
              "dict_items([('loss', [21.993200302124023, 1.3692189455032349, 1.2181220054626465, 1.080492377281189, 0.8175461888313293, 0.5769641399383545, 0.3688032031059265, 0.14652426540851593, 0.0945667028427124, 0.0849061980843544, 0.2546975314617157, 0.11267398297786713, 0.05918211489915848, 0.013715844601392746, 0.004004584159702063, 0.0032029475551098585, 0.0019793175160884857, 0.0014742393977940083, 0.000797727145254612, 0.0005964413867332041, 0.00046513808774761856, 0.0003912773681804538, 0.0003311492328066379, 0.0002889974566642195, 0.00025113284937106073]), ('accuracy', [0.2888889014720917, 0.4166666567325592, 0.5055555701255798, 0.5916666388511658, 0.7055555582046509, 0.800000011920929, 0.9027777910232544, 0.9722222089767456, 0.980555534362793, 0.980555534362793, 0.949999988079071, 0.9722222089767456, 0.9833333492279053, 0.9972222447395325, 1.0, 1.0, 1.0, 1.0, 1.0, 1.0, 1.0, 1.0, 1.0, 1.0, 1.0]), ('val_loss', [1.439955711364746, 1.4336134195327759, 1.3369221687316895, 1.6137065887451172, 1.223812222480774, 2.0006966590881348, 1.7063724994659424, 3.421907901763916, 3.4571738243103027, 2.3253352642059326, 2.013788938522339, 2.61548113822937, 2.5382940769195557, 2.7321994304656982, 2.873296022415161, 3.018916130065918, 3.503098249435425, 3.5657029151916504, 3.583228349685669, 3.5875210762023926, 3.628753662109375, 3.6816744804382324, 3.743116855621338, 3.8100833892822266, 3.851285457611084]), ('val_accuracy', [0.3499999940395355, 0.42500001192092896, 0.5, 0.44999998807907104, 0.44999998807907104, 0.4749999940395355, 0.44999998807907104, 0.5249999761581421, 0.6000000238418579, 0.550000011920929, 0.550000011920929, 0.4749999940395355, 0.5, 0.5249999761581421, 0.5, 0.5249999761581421, 0.5, 0.5, 0.5, 0.5, 0.5, 0.5, 0.5, 0.5, 0.5])])"
            ]
          },
          "metadata": {},
          "execution_count": 24
        }
      ]
    },
    {
      "cell_type": "code",
      "source": [
        "keys = ['accuracy', 'val_accuracy']\n",
        "progress = {k:v for k,v in history_CNN.history.items() if k in keys} #returns the training accuracy and validation accuracy as two separate lists,\n",
        "                                                                      #attached with the keys in a dictionary format \n",
        "\n",
        "import pandas as pd\n",
        "pd.DataFrame(progress).plot()\n",
        "\n",
        "plt.xlabel(\"epochs\")\n",
        "plt.ylabel(\"accuracy\")\n",
        "\n",
        "plt.grid(True)\n",
        "plt.show()"
      ],
      "metadata": {
        "colab": {
          "base_uri": "https://localhost:8080/",
          "height": 279
        },
        "id": "UttIkyjRppng",
        "outputId": "2c33e222-ed0f-4023-8d67-4d3a04a8ffbc"
      },
      "execution_count": null,
      "outputs": [
        {
          "output_type": "display_data",
          "data": {
            "text/plain": [
              "<Figure size 432x288 with 1 Axes>"
            ],
            "image/png": "[encoded data removed]"
          },
          "metadata": {
            "needs_background": "light"
          }
        }
      ]
    },
    {
      "cell_type": "markdown",
      "source": [
        "**here training accuracy very high and validation accuracy very less .. ie over fitting**"
      ],
      "metadata": {
        "id": "XQOxEDisqPNQ"
      }
    },
    {
      "cell_type": "markdown",
      "source": [
        "**Evaluate the model**"
      ],
      "metadata": {
        "id": "0ndpeE7gpyN1"
      }
    },
    {
      "cell_type": "code",
      "source": [
        "# Pass the appropriate arguments for evaluate function.\n",
        "test_loss, test_accuracy = model_CNN.evaluate(X_test_std, Y_test)\n",
        "\n",
        "print(\"Test-loss: %f, Test-accuracy: %f\" % (test_loss,  test_accuracy))"
      ],
      "metadata": {
        "colab": {
          "base_uri": "https://localhost:8080/"
        },
        "id": "ffoV52YVp1PR",
        "outputId": "2932f3ed-1283-485b-ffb3-7439e420e051"
      },
      "execution_count": null,
      "outputs": [
        {
          "output_type": "stream",
          "name": "stdout",
          "text": [
            "4/4 [==============================] - 0s 95ms/step - loss: 3.1449 - accuracy: 0.4300\n",
            "Test-loss: 3.144933, Test-accuracy: 0.430000\n"
          ]
        }
      ]
    },
    {
      "cell_type": "code",
      "source": [
        "cProba = model_CNN.predict(X_test_std[:10])\n",
        "\n",
        "print(cProba)"
      ],
      "metadata": {
        "colab": {
          "base_uri": "https://localhost:8080/"
        },
        "id": "iCXK6Hp1qAc0",
        "outputId": "a1d67766-b00d-49ae-860d-82226863198c"
      },
      "execution_count": null,
      "outputs": [
        {
          "output_type": "stream",
          "name": "stdout",
          "text": [
            "1/1 [==============================] - 1s 643ms/step\n",
            "[[1.54251223e-09 4.24142492e-11 9.99998689e-01 2.04657306e-14\n",
            "  1.26295481e-06]\n",
            " [2.58738883e-02 1.86210796e-02 2.09659949e-01 7.04531848e-01\n",
            "  4.13131639e-02]\n",
            " [3.20225030e-01 1.23800695e-01 5.08798659e-02 2.60915965e-01\n",
            "  2.44178489e-01]\n",
            " [3.36974412e-02 4.60265130e-01 2.76564628e-01 5.26639745e-02\n",
            "  1.76808774e-01]\n",
            " [7.89702088e-02 2.81090033e-03 1.04310061e-03 9.08665299e-01\n",
            "  8.51046294e-03]\n",
            " [1.15715012e-01 1.11449603e-02 2.48423204e-01 9.60316658e-02\n",
            "  5.28685153e-01]\n",
            " [9.54469681e-01 4.38871421e-02 6.21732092e-04 6.57297729e-04\n",
            "  3.64072475e-04]\n",
            " [4.55647521e-03 5.45439889e-06 9.94232595e-01 8.47821156e-08\n",
            "  1.20541546e-03]\n",
            " [1.72312863e-19 1.80679802e-23 9.68103534e-29 1.00000000e+00\n",
            "  4.10479317e-22]\n",
            " [1.90723822e-01 7.93210447e-01 1.23703200e-02 1.89120183e-03\n",
            "  1.80423434e-03]]\n"
          ]
        }
      ]
    },
    {
      "cell_type": "code",
      "source": [
        "cLabel = np.argmax(cProba,axis=-1) \n",
        "\n",
        "print(cLabel)"
      ],
      "metadata": {
        "colab": {
          "base_uri": "https://localhost:8080/"
        },
        "id": "_SN3w1NMqBLW",
        "outputId": "68749e8e-adf6-49b2-a42e-4d1a99d76421"
      },
      "execution_count": null,
      "outputs": [
        {
          "output_type": "stream",
          "name": "stdout",
          "text": [
            "[2 3 0 1 3 4 0 2 3 1]\n"
          ]
        }
      ]
    },
    {
      "cell_type": "code",
      "source": [
        "\n",
        "\n",
        "print(Y_test[:10])\n",
        "\n"
      ],
      "metadata": {
        "colab": {
          "base_uri": "https://localhost:8080/"
        },
        "id": "mMjYGlkRqIfQ",
        "outputId": "3870a75f-75d0-4ddb-e5af-78f10c27b3ac"
      },
      "execution_count": null,
      "outputs": [
        {
          "output_type": "stream",
          "name": "stdout",
          "text": [
            "[2 3 2 0 0 3 1 2 3 4]\n"
          ]
        }
      ]
    },
    {
      "cell_type": "markdown",
      "source": [],
      "metadata": {
        "id": "W8Hbg9k4krxe"
      }
    }
  ]
}